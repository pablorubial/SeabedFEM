{
 "cells": [
  {
   "cell_type": "code",
   "execution_count": 1,
   "metadata": {},
   "outputs": [],
   "source": [
    "using FFTW"
   ]
  },
  {
   "cell_type": "code",
   "execution_count": 9,
   "metadata": {},
   "outputs": [
    {
     "data": {
      "text/plain": [
       "31.41592653589794"
      ]
     },
     "metadata": {},
     "output_type": "display_data"
    }
   ],
   "source": [
    "N = 13\n",
    "L = 1\n",
    "d_PML = 0.1\n",
    "a = L/ 2 + d_PML # Half of interval length\n",
    "h_fft = 2 * a / N # Grid step size\n",
    "\n",
    "# Compute the wavenumbers\n",
    "k = 2 * π * fftfreq(N, 1) ./h_fft\n",
    "maximum(k)"
   ]
  },
  {
   "cell_type": "code",
   "execution_count": 32,
   "metadata": {},
   "outputs": [
    {
     "data": {
      "text/plain": [
       "32.070425005395805"
      ]
     },
     "metadata": {},
     "output_type": "display_data"
    }
   ],
   "source": [
    "N = 100\n",
    "L = 1\n",
    "d_PML = 0.1\n",
    "a = L/ 2 + d_PML # Half of interval length\n",
    "h_fft = 2 * a / N # Grid step size\n",
    "\n",
    "# Compute the wavenumbers\n",
    "maximum(2 * π * fftfreq(N, 1)./(8 .* h_fft))"
   ]
  },
  {
   "cell_type": "code",
   "execution_count": null,
   "metadata": {},
   "outputs": [],
   "source": []
  }
 ],
 "metadata": {
  "kernelspec": {
   "display_name": "Julia 1.10.5",
   "language": "julia",
   "name": "julia-1.10"
  },
  "language_info": {
   "file_extension": ".jl",
   "mimetype": "application/julia",
   "name": "julia",
   "version": "1.10.5"
  }
 },
 "nbformat": 4,
 "nbformat_minor": 2
}
